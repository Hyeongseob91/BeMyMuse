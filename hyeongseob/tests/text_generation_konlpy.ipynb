{
 "cells": [
  {
   "cell_type": "markdown",
   "metadata": {},
   "source": [
    "# 1. 형태소 분석"
   ]
  },
  {
   "cell_type": "code",
   "execution_count": 1,
   "metadata": {},
   "outputs": [
    {
     "data": {
      "text/html": [
       "<div>\n",
       "<style scoped>\n",
       "    .dataframe tbody tr th:only-of-type {\n",
       "        vertical-align: middle;\n",
       "    }\n",
       "\n",
       "    .dataframe tbody tr th {\n",
       "        vertical-align: top;\n",
       "    }\n",
       "\n",
       "    .dataframe thead th {\n",
       "        text-align: right;\n",
       "    }\n",
       "</style>\n",
       "<table border=\"1\" class=\"dataframe\">\n",
       "  <thead>\n",
       "    <tr style=\"text-align: right;\">\n",
       "      <th></th>\n",
       "      <th>title</th>\n",
       "      <th>artist</th>\n",
       "      <th>lyrics</th>\n",
       "      <th>release_date</th>\n",
       "      <th>likes</th>\n",
       "    </tr>\n",
       "  </thead>\n",
       "  <tbody>\n",
       "    <tr>\n",
       "      <th>0</th>\n",
       "      <td>#0000FF</td>\n",
       "      <td>Siera</td>\n",
       "      <td>Welcome to my world\\n\\nRed , Blue , Green\\n\\nM...</td>\n",
       "      <td>2024.12.31</td>\n",
       "      <td>0</td>\n",
       "    </tr>\n",
       "    <tr>\n",
       "      <th>1</th>\n",
       "      <td>#RETURN(feat. 장건, Dysearth)</td>\n",
       "      <td>CYAN</td>\n",
       "      <td>how are you doing\\n있잖아 그건 나를 falling\\nI'm fall...</td>\n",
       "      <td>2024.10.16</td>\n",
       "      <td>23</td>\n",
       "    </tr>\n",
       "    <tr>\n",
       "      <th>2</th>\n",
       "      <td>#첫사랑</td>\n",
       "      <td>볼빨간사춘기</td>\n",
       "      <td>어릴 때 넌 키도 작고\\n빼빼 말랐지 기억나\\n난 knock 그런 니가\\n괜히 맘에...</td>\n",
       "      <td>2018.01.10</td>\n",
       "      <td>129991</td>\n",
       "    </tr>\n",
       "    <tr>\n",
       "      <th>3</th>\n",
       "      <td>&amp; The Baby Girl (Feat. SABINE) (Original Mix)</td>\n",
       "      <td>George D.Blue</td>\n",
       "      <td>You and I and the baby girl\\nWhat should we be...</td>\n",
       "      <td>2024.12.15</td>\n",
       "      <td>50</td>\n",
       "    </tr>\n",
       "    <tr>\n",
       "      <th>4</th>\n",
       "      <td>'u' (Feat. Vann)</td>\n",
       "      <td>Wuno</td>\n",
       "      <td>baby 너만을 바라봐 나는 all day\\n알려줘 너만의 private한 stor...</td>\n",
       "      <td>2024.08.26</td>\n",
       "      <td>21</td>\n",
       "    </tr>\n",
       "  </tbody>\n",
       "</table>\n",
       "</div>"
      ],
      "text/plain": [
       "                                           title         artist  \\\n",
       "0                                        #0000FF          Siera   \n",
       "1                    #RETURN(feat. 장건, Dysearth)           CYAN   \n",
       "2                                           #첫사랑         볼빨간사춘기   \n",
       "3  & The Baby Girl (Feat. SABINE) (Original Mix)  George D.Blue   \n",
       "4                               'u' (Feat. Vann)           Wuno   \n",
       "\n",
       "                                              lyrics release_date   likes  \n",
       "0  Welcome to my world\\n\\nRed , Blue , Green\\n\\nM...   2024.12.31       0  \n",
       "1  how are you doing\\n있잖아 그건 나를 falling\\nI'm fall...   2024.10.16      23  \n",
       "2  어릴 때 넌 키도 작고\\n빼빼 말랐지 기억나\\n난 knock 그런 니가\\n괜히 맘에...   2018.01.10  129991  \n",
       "3  You and I and the baby girl\\nWhat should we be...   2024.12.15      50  \n",
       "4  baby 너만을 바라봐 나는 all day\\n알려줘 너만의 private한 stor...   2024.08.26      21  "
      ]
     },
     "execution_count": 1,
     "metadata": {},
     "output_type": "execute_result"
    }
   ],
   "source": [
    "# 1. 데이터 불러오기\n",
    "import pandas as pd\n",
    "data = pd.read_csv(r\"/home/wanted-1/potenup-workspace/Project/project2/team5/(Data)/'music_data(Merge)'.csv\")\n",
    "data.drop(\"Unnamed: 0\", axis=1, inplace=True)\n",
    "data.dropna(inplace=True)\n",
    "data.head()"
   ]
  },
  {
   "cell_type": "code",
   "execution_count": 9,
   "metadata": {},
   "outputs": [
    {
     "name": "stdout",
     "output_type": "stream",
     "text": [
      "<class 'str'>\n"
     ]
    }
   ],
   "source": [
    "# 2. 데이터 값 type 변환\n",
    "data['lyrics'] = data['lyrics'].astype(str)\n",
    "print(type(data['lyrics'][0]))\n",
    "lyrics = data['lyrics'].tolist()"
   ]
  },
  {
   "cell_type": "code",
   "execution_count": 11,
   "metadata": {},
   "outputs": [],
   "source": [
    "# 3. 데이터 전처리\n",
    "## 3-1. 모듈 활성화\n",
    "import re\n",
    "\n",
    "## 3-2. 문자열 정규화\n",
    "ly_re = []\n",
    "for lyric in lyrics:\n",
    "    if isinstance(lyric, str):\n",
    "        clean_lyric = re.sub(r\"[^0-9a-zA-Zㄱ-ㅎ가-힣\\s+!]\", \"\", lyric)\n",
    "        ly_re.extend(clean_lyric.split('\\n'))\n",
    "## 3-3. 빈 문자열 제거\n",
    "ly_re = [sentence for sentence in ly_re if sentence.strip()]"
   ]
  },
  {
   "cell_type": "markdown",
   "metadata": {},
   "source": [
    "## - GPU 사용을 위한 설정 확인"
   ]
  },
  {
   "cell_type": "code",
   "execution_count": 12,
   "metadata": {},
   "outputs": [
    {
     "name": "stdout",
     "output_type": "stream",
     "text": [
      "True\n",
      "2\n",
      "NVIDIA GeForce RTX 4090\n",
      "Using device: cuda:0\n"
     ]
    }
   ],
   "source": [
    "# 머신러닝 모델 GPU 사용하기 - torch\n",
    "## 1. GPU 사용 여부 확인\n",
    "import torch\n",
    "\n",
    "## GPU 사용 가능 여부 확인\n",
    "print(torch.cuda.is_available())        # True라면 GPU 사용 가능\n",
    "print(torch.cuda.device_count())        # 사용 가능한 GPU 개수 출력\n",
    "print(torch.cuda.get_device_name(0))    # 첫 번째 GPU 이름 출력\n",
    "\n",
    "# 2. 디바이스 설정 (GPU가 없으면 CPU 사용)\n",
    "device = torch.device(0)\n",
    "print(f\"Using device: {device}\")"
   ]
  },
  {
   "cell_type": "code",
   "execution_count": 13,
   "metadata": {},
   "outputs": [
    {
     "name": "stderr",
     "output_type": "stream",
     "text": [
      "100%|██████████| 221093/221093 [17:45<00:00, 207.55it/s] "
     ]
    },
    {
     "name": "stdout",
     "output_type": "stream",
     "text": [
      "[('Welcome', 'SL'), ('to', 'SL'), ('my', 'SL'), ('world', 'SL'), ('Red', 'SL'), ('Blue', 'SL'), ('Green', 'SL'), ('My', 'SL'), ('world', 'SL'), ('is', 'SL')]\n"
     ]
    },
    {
     "name": "stderr",
     "output_type": "stream",
     "text": [
      "\n"
     ]
    }
   ],
   "source": [
    "# 4. KoNLPy : 형태소 분석\n",
    "from konlpy.tag import Komoran\n",
    "from tqdm import tqdm\n",
    "komoran = Komoran()\n",
    "ly_data_pos = []\n",
    "\n",
    "for sentence in tqdm(ly_re):\n",
    "    if sentence.strip():\n",
    "        ly_data_pos.extend(komoran.pos(sentence))\n",
    "\n",
    "print(ly_data_pos[:10])"
   ]
  },
  {
   "cell_type": "markdown",
   "metadata": {},
   "source": [
    "## - 데이터 저장"
   ]
  },
  {
   "cell_type": "code",
   "execution_count": 15,
   "metadata": {},
   "outputs": [],
   "source": [
    "pd.DataFrame(ly_data_pos).to_csv(r\"/home/wanted-1/potenup-workspace/Project/project2/team5/(Data)/pos_data_250125(3).csv\")\n",
    "len(ly_data_pos)"
   ]
  },
  {
   "cell_type": "code",
   "execution_count": 16,
   "metadata": {},
   "outputs": [
    {
     "name": "stderr",
     "output_type": "stream",
     "text": [
      "Processing POS and words: 100%|██████████| 1494661/1494661 [00:02<00:00, 573461.70it/s] \n"
     ]
    }
   ],
   "source": [
    "# 5. KoNLPy : 품사 분류 및 단어 분류\n",
    "pos_list = []\n",
    "word_list = []\n",
    "\n",
    "for word, pos in tqdm(ly_data_pos, desc=\"Processing POS and words\"):\n",
    "    if pos != 'SL':\n",
    "        pos_list.append(pos)\n",
    "        word_list.append(word)"
   ]
  },
  {
   "cell_type": "code",
   "execution_count": 22,
   "metadata": {},
   "outputs": [
    {
     "name": "stdout",
     "output_type": "stream",
     "text": [
      "['VV', 'EC', 'NP', 'JX', 'NP', 'JKO', 'NP', 'JX', 'NP', 'JKO', 'MM', 'NNG', 'JX', 'MAG', 'NP', 'JKO', 'NNP', 'NNG', 'JX', 'VA']\n"
     ]
    }
   ],
   "source": [
    "print(pos_list[:20])"
   ]
  },
  {
   "cell_type": "code",
   "execution_count": 20,
   "metadata": {},
   "outputs": [
    {
     "name": "stdout",
     "output_type": "stream",
     "text": [
      "['있', '잖아', '그것', 'ㄴ', '나', '를', '너', '는', '나', '를']\n"
     ]
    }
   ],
   "source": [
    "print(word_list[:10])"
   ]
  },
  {
   "cell_type": "code",
   "execution_count": null,
   "metadata": {},
   "outputs": [
    {
     "name": "stdout",
     "output_type": "stream",
     "text": [
      "1548\n",
      "24\n"
     ]
    }
   ],
   "source": [
    "# 6. 분류 개수 확인하기\n",
    "from collections import Counter\n",
    "word_list_counter  = Counter(str(word_list))\n",
    "print(len(word_list_counter))\n",
    "pos_list_counter  = Counter(str(pos_list))\n",
    "print(len(pos_list_counter))"
   ]
  },
  {
   "cell_type": "code",
   "execution_count": 27,
   "metadata": {},
   "outputs": [
    {
     "name": "stderr",
     "output_type": "stream",
     "text": [
      "/tmp/ipykernel_893807/2322073335.py:11: UserWarning: No artists with labels found to put in legend.  Note that artists whose label start with an underscore are ignored when legend() is called with no argument.\n",
      "  plt.legend()\n"
     ]
    },
    {
     "data": {
      "image/png": "[encoded data removed]",
      "text/plain": [
       "<Figure size 1600x600 with 1 Axes>"
      ]
     },
     "metadata": {},
     "output_type": "display_data"
    }
   ],
   "source": [
    "# 7. 문장 구조의 품사 별 사용 빈도수 그래프로 나타내기\n",
    "import koreanize_matplotlib\n",
    "import matplotlib.pyplot as plt\n",
    "\n",
    "x = sorted(pos_list_counter.keys(), reverse=True)\n",
    "y = sorted(pos_list_counter.values(), reverse=True)\n",
    "\n",
    "plt.figure(figsize=(16, 6))\n",
    "plt.plot(x, y, color=\"red\", linewidth=2, marker='o')\n",
    "plt.title('문장 구조의 품사 별 사용 빈도수')\n",
    "plt.legend()\n",
    "plt.show()"
   ]
  },
  {
   "cell_type": "code",
   "execution_count": 29,
   "metadata": {},
   "outputs": [
    {
     "name": "stderr",
     "output_type": "stream",
     "text": [
      "100%|██████████| 1494661/1494661 [00:05<00:00, 298358.45it/s] \n"
     ]
    }
   ],
   "source": [
    "# 8. 품사 별 단어 모음 변수 만들기\n",
    "## 각 품사에 따른 리스트 생성\n",
    "NNG, JX, VV, EC, JKS, VA, EF, MAG, JKO, JC = [], [], [], [], [], [], [], [], [], []\n",
    "JKB, MM, XSA, XSV, JKV, NA, VX, NP, VCN, NNB, XSN, VCP = [], [], [], [], [], [], [], [], [], [], [], []\n",
    "ETN, XR, EP, NR, SN, XPN, IC, NNP, ETM, JKC, SF, SW, JKG = [], [], [], [], [], [], [], [], [], [], [], [], []\n",
    "unknown_words = []\n",
    "\n",
    "# 형태소 분석 결과를 기반으로 품사 분류\n",
    "for word, pos in tqdm(ly_data_pos):\n",
    "    match pos:\n",
    "        case \"NNG\":\n",
    "            NNG.append(word)\n",
    "        case \"JX\":\n",
    "            JX.append(word)\n",
    "        case \"VV\":\n",
    "            VV.append(word)\n",
    "        case \"EC\":\n",
    "            EC.append(word)\n",
    "        case \"JKS\":\n",
    "            JKS.append(word)\n",
    "        case \"VA\":\n",
    "            VA.append(word)\n",
    "        case \"EF\":\n",
    "            EF.append(word)\n",
    "        case \"MAG\":\n",
    "            MAG.append(word)\n",
    "        case \"JKO\":\n",
    "            JKO.append(word)\n",
    "        case \"JC\":\n",
    "            JC.append(word)\n",
    "        case \"JKB\":\n",
    "            JKB.append(word)\n",
    "        case \"MM\":\n",
    "            MM.append(word)\n",
    "        case \"XSA\":\n",
    "            XSA.append(word)\n",
    "        case \"XSV\":\n",
    "            XSV.append(word)\n",
    "        case \"JKV\":\n",
    "            JKV.append(word)\n",
    "        case \"NA\":\n",
    "            NA.append(word)\n",
    "        case \"VX\":\n",
    "            VX.append(word)\n",
    "        case \"NP\":\n",
    "            NP.append(word)\n",
    "        case \"VCN\":\n",
    "            VCN.append(word)\n",
    "        case \"NNB\":\n",
    "            NNB.append(word)\n",
    "        case \"XSN\":\n",
    "            XSN.append(word)\n",
    "        case \"VCP\":\n",
    "            VCP.append(word)\n",
    "        case \"ETN\":\n",
    "            ETN.append(word)\n",
    "        case \"XR\":\n",
    "            XR.append(word)\n",
    "        case \"EP\":\n",
    "            EP.append(word)\n",
    "        case \"NR\":\n",
    "            NR.append(word)\n",
    "        case \"SN\":\n",
    "            SN.append(word)\n",
    "        case \"XPN\":\n",
    "            XPN.append(word)\n",
    "        case \"IC\":\n",
    "            IC.append(word)\n",
    "        case \"NNP\":\n",
    "            NNP.append(word)\n",
    "        case \"ETM\":\n",
    "            ETM.append(word)\n",
    "        case \"JKC\":\n",
    "            JKC.append(word)\n",
    "        case \"SF\":\n",
    "            SF.append(word)\n",
    "        case \"SW\":\n",
    "            SW.append(word)\n",
    "        case \"JKG\":\n",
    "            JKG.append(word)\n",
    "        case _:\n",
    "            unknown_words.append(word)  # 분류되지 않은 경우"
   ]
  },
  {
   "cell_type": "code",
   "execution_count": 30,
   "metadata": {},
   "outputs": [
    {
     "name": "stdout",
     "output_type": "stream",
     "text": [
      "321357\n"
     ]
    }
   ],
   "source": [
    "print(len(unknown_words))"
   ]
  },
  {
   "cell_type": "markdown",
   "metadata": {},
   "source": [
    "# 2. 문장 생성하기"
   ]
  },
  {
   "cell_type": "code",
   "execution_count": 33,
   "metadata": {},
   "outputs": [
    {
     "name": "stdout",
     "output_type": "stream",
     "text": [
      "Sentence 1: 탓가 아직 하다면 때를 맞게\n",
      "Sentence 2: 게가 귀을 잊히어 좀 늦지만\n",
      "Sentence 3: 바짝 넘치어 부족가 차갑게\n",
      "Sentence 4: 이상이 외치아 사랑ㄹ 매일 오아도\n",
      "Sentence 5: 준비가 떨어지어 전을 더 괜찮면\n"
     ]
    }
   ],
   "source": [
    "# 1. 모듈 불러오기\n",
    "import random\n",
    "\n",
    "# 2. 문장 생성 패턴\n",
    "sentence1 = f\"{random.choice(NNG)}{random.choice(JKS)} {random.choice(MAG)} {random.choice(VV)}{random.choice(EC)} {random.choice(NNG)}{random.choice(JKO)} {random.choice(VV)}{random.choice(EC)}\"\n",
    "sentence2 = f\"{random.choice(NNG)}{random.choice(JKS)} {random.choice(NNG)}{random.choice(JKO)} {random.choice(VV)}{random.choice(EC)} {random.choice(MAG)} {random.choice(VA)}{random.choice(EC)}\"\n",
    "sentence3 = f\"{random.choice(MAG)} {random.choice(VV)}{random.choice(EC)} {random.choice(NNG)}{random.choice(JKS)} {random.choice(VA)}{random.choice(EC)}\"\n",
    "sentence4 = f\"{random.choice(NNG)}{random.choice(JKS)} {random.choice(VV)}{random.choice(EC)} {random.choice(NNG)}{random.choice(JKO)} {random.choice(MAG)} {random.choice(VV)}{random.choice(EC)}\"\n",
    "sentence5 = f\"{random.choice(NNG)}{random.choice(JKS)} {random.choice(VV)}{random.choice(EC)} {random.choice(NNG)}{random.choice(JKO)} {random.choice(MAG)} {random.choice(VA)}{random.choice(EC)}\"\n",
    "sentences = [\n",
    "    sentence1,\n",
    "    sentence2,\n",
    "    sentence3,\n",
    "    sentence4,\n",
    "    sentence5,\n",
    "]\n",
    "\n",
    "# 결과 출력\n",
    "for i, sentence in enumerate(sentences, 1):\n",
    "    print(f\"Sentence {i}: {sentence}\")"
   ]
  }
 ],
 "metadata": {
  "kernelspec": {
   "display_name": "team5",
   "language": "python",
   "name": "python3"
  },
  "language_info": {
   "codemirror_mode": {
    "name": "ipython",
    "version": 3
   },
   "file_extension": ".py",
   "mimetype": "text/x-python",
   "name": "python",
   "nbconvert_exporter": "python",
   "pygments_lexer": "ipython3",
   "version": "3.11.11"
  }
 },
 "nbformat": 4,
 "nbformat_minor": 2
}
