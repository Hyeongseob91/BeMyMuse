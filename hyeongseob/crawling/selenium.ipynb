{
 "cells": [
  {
   "cell_type": "markdown",
   "metadata": {},
   "source": [
    "# Dataset 만들기"
   ]
  },
  {
   "cell_type": "markdown",
   "metadata": {},
   "source": [
    "## 1. 멜론_한국대중음악 수집"
   ]
  },
  {
   "cell_type": "markdown",
   "metadata": {},
   "source": [
    "### 1) 모듈 불러오기"
   ]
  },
  {
   "cell_type": "code",
   "execution_count": 1,
   "metadata": {},
   "outputs": [],
   "source": [
    "# 1. 크롬 드라이버 셀레니움 환경 설정하기\n",
    "## 크롬드라이버 설치 -> 크롬 정보 확인하여 버전에 맞는걸로 Download\n",
    "### https://googlechromelabs.github.io/chrome-for-testing/#stable\n",
    "\n",
    "# 2. 셀레니움 설치 완료 후 필요한 모듈 불러오기\n",
    "from selenium import webdriver                                          # webdriver : 크롬 가상 드라이버 실행\n",
    "from selenium.webdriver.common.by import By                             # By : 실제 페이지 내용을 긁어올 때 수단을 설정하는 모듈\n",
    "from selenium.webdriver.common.keys import Keys                         # Keys : 대신 키보드를 눌러주는 동작을 전달\n",
    "from selenium.webdriver.support.ui import WebDriverWait                 # WebDriverWait : 대기가 필요한 상황에서 사용하기\n",
    "from selenium.webdriver.support import expected_conditions as EC        # expected_conditions : 요소의 상태를 알아볼 때 사용\n",
    "from selenium.webdriver.chrome.options import Options                   # Options : 크롬 드라이버의 옵션을 정함. ex) 크롬창 크기 등\n",
    "from selenium.webdriver.chrome.service import Service                   # Service : Selenium에서 ChromeDriver의 경로를 설정하고 관리하는 역할\n",
    "from selenium.webdriver.common.action_chains import ActionChains        # ActionCahins : Selenium에서 입력 장치를 사용하여 복잡한 사용자 동작을 자동화\n",
    "from selenium.common.exceptions import NoSuchElementException           # NoSuchElementException : 지정한 조건에 맞는 요소를 찾을 수 없을 때 발생하는 예외 함수\n",
    "\n",
    "# 3. BeautifulSoup 활용 할 모듈 불러오기\n",
    "# from bs4 import BeautifulSoup                       \n",
    "import time                                     # 시간 관련 작업을 간편하게 처리하기 위해 사용\n",
    "# import math                                     # 수학적 계산을 위한 다양한 함수들을 제공\n",
    "import pandas as pd \n",
    "# import pickle                                   # 데이터를 저장할 때 사용"
   ]
  },
  {
   "cell_type": "markdown",
   "metadata": {},
   "source": [
    "### 2) Selenium으로 음원 chart 자료 크롤링"
   ]
  },
  {
   "cell_type": "code",
   "execution_count": 4,
   "metadata": {},
   "outputs": [
    {
     "ename": "NoSuchDriverException",
     "evalue": "Message: Unable to obtain driver for chrome; For documentation on this error, please visit: https://www.selenium.dev/documentation/webdriver/troubleshooting/errors/driver_location\n",
     "output_type": "error",
     "traceback": [
      "\u001b[0;31m---------------------------------------------------------------------------\u001b[0m",
      "\u001b[0;31mValueError\u001b[0m                                Traceback (most recent call last)",
      "File \u001b[0;32m~/miniconda3/envs/rapids-24.12/lib/python3.11/site-packages/selenium/webdriver/common/driver_finder.py:64\u001b[0m, in \u001b[0;36mDriverFinder._binary_paths\u001b[0;34m(self)\u001b[0m\n\u001b[1;32m     63\u001b[0m \u001b[38;5;28;01mif\u001b[39;00m \u001b[38;5;129;01mnot\u001b[39;00m Path(path)\u001b[38;5;241m.\u001b[39mis_file():\n\u001b[0;32m---> 64\u001b[0m     \u001b[38;5;28;01mraise\u001b[39;00m \u001b[38;5;167;01mValueError\u001b[39;00m(\u001b[38;5;124mf\u001b[39m\u001b[38;5;124m\"\u001b[39m\u001b[38;5;124mThe path is not a valid file: \u001b[39m\u001b[38;5;132;01m{\u001b[39;00mpath\u001b[38;5;132;01m}\u001b[39;00m\u001b[38;5;124m\"\u001b[39m)\n\u001b[1;32m     65\u001b[0m \u001b[38;5;28mself\u001b[39m\u001b[38;5;241m.\u001b[39m_paths[\u001b[38;5;124m\"\u001b[39m\u001b[38;5;124mdriver_path\u001b[39m\u001b[38;5;124m\"\u001b[39m] \u001b[38;5;241m=\u001b[39m path\n",
      "\u001b[0;31mValueError\u001b[0m: The path is not a valid file: C:\\Wanted\\\\원티드_포텐업_파일모음\\\\chromedriver-win64\\\\chromedriver-win64\\\\chromedriver.exe",
      "\nThe above exception was the direct cause of the following exception:\n",
      "\u001b[0;31mNoSuchDriverException\u001b[0m                     Traceback (most recent call last)",
      "Cell \u001b[0;32mIn[4], line 12\u001b[0m\n\u001b[1;32m      9\u001b[0m options\u001b[38;5;241m.\u001b[39madd_argument(\u001b[38;5;124m\"\u001b[39m\u001b[38;5;124m--disable-dev-shm-usage\u001b[39m\u001b[38;5;124m\"\u001b[39m)             \u001b[38;5;66;03m# 리소스 사용 문제 방지\u001b[39;00m\n\u001b[1;32m     11\u001b[0m \u001b[38;5;66;03m# 브라우저 열기\u001b[39;00m\n\u001b[0;32m---> 12\u001b[0m driver \u001b[38;5;241m=\u001b[39m \u001b[43mwebdriver\u001b[49m\u001b[38;5;241;43m.\u001b[39;49m\u001b[43mChrome\u001b[49m\u001b[43m(\u001b[49m\u001b[43mservice\u001b[49m\u001b[38;5;241;43m=\u001b[39;49m\u001b[43mservice\u001b[49m\u001b[43m,\u001b[49m\u001b[43m \u001b[49m\u001b[43moptions\u001b[49m\u001b[38;5;241;43m=\u001b[39;49m\u001b[43moptions\u001b[49m\u001b[43m)\u001b[49m\n\u001b[1;32m     13\u001b[0m wait \u001b[38;5;241m=\u001b[39m WebDriverWait(driver, \u001b[38;5;241m10\u001b[39m)\n\u001b[1;32m     15\u001b[0m \u001b[38;5;66;03m# 멜론뮤직 홈페이지로 이동\u001b[39;00m\n",
      "File \u001b[0;32m~/miniconda3/envs/rapids-24.12/lib/python3.11/site-packages/selenium/webdriver/chrome/webdriver.py:45\u001b[0m, in \u001b[0;36mWebDriver.__init__\u001b[0;34m(self, options, service, keep_alive)\u001b[0m\n\u001b[1;32m     42\u001b[0m service \u001b[38;5;241m=\u001b[39m service \u001b[38;5;28;01mif\u001b[39;00m service \u001b[38;5;28;01melse\u001b[39;00m Service()\n\u001b[1;32m     43\u001b[0m options \u001b[38;5;241m=\u001b[39m options \u001b[38;5;28;01mif\u001b[39;00m options \u001b[38;5;28;01melse\u001b[39;00m Options()\n\u001b[0;32m---> 45\u001b[0m \u001b[38;5;28;43msuper\u001b[39;49m\u001b[43m(\u001b[49m\u001b[43m)\u001b[49m\u001b[38;5;241;43m.\u001b[39;49m\u001b[38;5;21;43m__init__\u001b[39;49m\u001b[43m(\u001b[49m\n\u001b[1;32m     46\u001b[0m \u001b[43m    \u001b[49m\u001b[43mbrowser_name\u001b[49m\u001b[38;5;241;43m=\u001b[39;49m\u001b[43mDesiredCapabilities\u001b[49m\u001b[38;5;241;43m.\u001b[39;49m\u001b[43mCHROME\u001b[49m\u001b[43m[\u001b[49m\u001b[38;5;124;43m\"\u001b[39;49m\u001b[38;5;124;43mbrowserName\u001b[39;49m\u001b[38;5;124;43m\"\u001b[39;49m\u001b[43m]\u001b[49m\u001b[43m,\u001b[49m\n\u001b[1;32m     47\u001b[0m \u001b[43m    \u001b[49m\u001b[43mvendor_prefix\u001b[49m\u001b[38;5;241;43m=\u001b[39;49m\u001b[38;5;124;43m\"\u001b[39;49m\u001b[38;5;124;43mgoog\u001b[39;49m\u001b[38;5;124;43m\"\u001b[39;49m\u001b[43m,\u001b[49m\n\u001b[1;32m     48\u001b[0m \u001b[43m    \u001b[49m\u001b[43moptions\u001b[49m\u001b[38;5;241;43m=\u001b[39;49m\u001b[43moptions\u001b[49m\u001b[43m,\u001b[49m\n\u001b[1;32m     49\u001b[0m \u001b[43m    \u001b[49m\u001b[43mservice\u001b[49m\u001b[38;5;241;43m=\u001b[39;49m\u001b[43mservice\u001b[49m\u001b[43m,\u001b[49m\n\u001b[1;32m     50\u001b[0m \u001b[43m    \u001b[49m\u001b[43mkeep_alive\u001b[49m\u001b[38;5;241;43m=\u001b[39;49m\u001b[43mkeep_alive\u001b[49m\u001b[43m,\u001b[49m\n\u001b[1;32m     51\u001b[0m \u001b[43m\u001b[49m\u001b[43m)\u001b[49m\n",
      "File \u001b[0;32m~/miniconda3/envs/rapids-24.12/lib/python3.11/site-packages/selenium/webdriver/chromium/webdriver.py:50\u001b[0m, in \u001b[0;36mChromiumDriver.__init__\u001b[0;34m(self, browser_name, vendor_prefix, options, service, keep_alive)\u001b[0m\n\u001b[1;32m     47\u001b[0m \u001b[38;5;28mself\u001b[39m\u001b[38;5;241m.\u001b[39mservice \u001b[38;5;241m=\u001b[39m service\n\u001b[1;32m     49\u001b[0m finder \u001b[38;5;241m=\u001b[39m DriverFinder(\u001b[38;5;28mself\u001b[39m\u001b[38;5;241m.\u001b[39mservice, options)\n\u001b[0;32m---> 50\u001b[0m \u001b[38;5;28;01mif\u001b[39;00m \u001b[43mfinder\u001b[49m\u001b[38;5;241;43m.\u001b[39;49m\u001b[43mget_browser_path\u001b[49m\u001b[43m(\u001b[49m\u001b[43m)\u001b[49m:\n\u001b[1;32m     51\u001b[0m     options\u001b[38;5;241m.\u001b[39mbinary_location \u001b[38;5;241m=\u001b[39m finder\u001b[38;5;241m.\u001b[39mget_browser_path()\n\u001b[1;32m     52\u001b[0m     options\u001b[38;5;241m.\u001b[39mbrowser_version \u001b[38;5;241m=\u001b[39m \u001b[38;5;28;01mNone\u001b[39;00m\n",
      "File \u001b[0;32m~/miniconda3/envs/rapids-24.12/lib/python3.11/site-packages/selenium/webdriver/common/driver_finder.py:47\u001b[0m, in \u001b[0;36mDriverFinder.get_browser_path\u001b[0;34m(self)\u001b[0m\n\u001b[1;32m     46\u001b[0m \u001b[38;5;28;01mdef\u001b[39;00m\u001b[38;5;250m \u001b[39m\u001b[38;5;21mget_browser_path\u001b[39m(\u001b[38;5;28mself\u001b[39m) \u001b[38;5;241m-\u001b[39m\u001b[38;5;241m>\u001b[39m \u001b[38;5;28mstr\u001b[39m:\n\u001b[0;32m---> 47\u001b[0m     \u001b[38;5;28;01mreturn\u001b[39;00m \u001b[38;5;28;43mself\u001b[39;49m\u001b[38;5;241;43m.\u001b[39;49m\u001b[43m_binary_paths\u001b[49m\u001b[43m(\u001b[49m\u001b[43m)\u001b[49m[\u001b[38;5;124m\"\u001b[39m\u001b[38;5;124mbrowser_path\u001b[39m\u001b[38;5;124m\"\u001b[39m]\n",
      "File \u001b[0;32m~/miniconda3/envs/rapids-24.12/lib/python3.11/site-packages/selenium/webdriver/common/driver_finder.py:78\u001b[0m, in \u001b[0;36mDriverFinder._binary_paths\u001b[0;34m(self)\u001b[0m\n\u001b[1;32m     76\u001b[0m \u001b[38;5;28;01mexcept\u001b[39;00m \u001b[38;5;167;01mException\u001b[39;00m \u001b[38;5;28;01mas\u001b[39;00m err:\n\u001b[1;32m     77\u001b[0m     msg \u001b[38;5;241m=\u001b[39m \u001b[38;5;124mf\u001b[39m\u001b[38;5;124m\"\u001b[39m\u001b[38;5;124mUnable to obtain driver for \u001b[39m\u001b[38;5;132;01m{\u001b[39;00mbrowser\u001b[38;5;132;01m}\u001b[39;00m\u001b[38;5;124m\"\u001b[39m\n\u001b[0;32m---> 78\u001b[0m     \u001b[38;5;28;01mraise\u001b[39;00m NoSuchDriverException(msg) \u001b[38;5;28;01mfrom\u001b[39;00m\u001b[38;5;250m \u001b[39m\u001b[38;5;21;01merr\u001b[39;00m\n\u001b[1;32m     79\u001b[0m \u001b[38;5;28;01mreturn\u001b[39;00m \u001b[38;5;28mself\u001b[39m\u001b[38;5;241m.\u001b[39m_paths\n",
      "\u001b[0;31mNoSuchDriverException\u001b[0m: Message: Unable to obtain driver for chrome; For documentation on this error, please visit: https://www.selenium.dev/documentation/webdriver/troubleshooting/errors/driver_location\n"
     ]
    }
   ],
   "source": [
    "# WebDriver 설정 (ChromeDriver 경로 지정)\n",
    "service = Service(r\"C:\\Wanted\\\\원티드_포텐업_파일모음\\\\chromedriver-win64\\\\chromedriver-win64\\\\chromedriver.exe\")  # ChromeDriver 경로\n",
    "options = webdriver.ChromeOptions()\n",
    "\n",
    "# 백그라운드 실행\n",
    "# options.add_argument('--headless')                        # 브라우저를 GUI 없이 실행\n",
    "# options.add_argument('--disable-gpu')                     # GPU를 비활성화\n",
    "# options.add_argument('--no-sandbox')                      # Chcome의 샌드박스 보안 기능을 비활성화 (일부 제한적인 환경에서 안정적으로 실행되도록 설정)\n",
    "options.add_argument(\"--disable-dev-shm-usage\")             # 리소스 사용 문제 방지\n",
    "\n",
    "# 브라우저 열기\n",
    "driver = webdriver.Chrome(service=service, options=options)\n",
    "wait = WebDriverWait(driver, 10)\n",
    "\n",
    "# 멜론뮤직 홈페이지로 이동\n",
    "url = \"https://www.melon.com/\"\n",
    "driver.maximize_window()\n",
    "# maximize_window()\t창을 최대화합니다.\n",
    "# minimize_window()\t창을 최소화합니다.\n",
    "# fullscreen_window()\t창을 전체 화면 모드로 설정합니다.\n",
    "# set_window_size(w, h)\t창의 크기를 설정합니다.\n",
    "# get_window_size()\t창의 크기를 가져옵니다.\n",
    "# set_window_position(x, y)\t창의 위치를 설정합니다.\n",
    "# get_window_position()\t창의 위치를 가져옵니다.\n",
    "# switch_to.window()\t특정 창으로 전환합니다.\n",
    "driver.get(url)                                             # 멜론 뮤직 차트로 진입\n",
    "time.sleep(2)                                               # 페이지 로드 대기\n",
    "\n",
    "# 멜론뮤직 '장르음악' 선택\n",
    "melon_ganre = WebDriverWait(driver, 10).until(EC.visibility_of_element_located((By.XPATH, '//*[@id=\"gnb_menu\"]/ul[1]/li[3]/a/span[2]')))\n",
    "melon_ganre.click()\n",
    "\n",
    "# 랩/힙합 장르 선택하여 클릭\n",
    "second_box = WebDriverWait(driver, 10).until(EC.visibility_of_element_located((By.XPATH,'//*[@id=\"conts\"]/div[2]/ul/li[3]/a/span')))\n",
    "second_box.click()\n",
    "\n",
    "# '인기순' 클릭\n",
    "popular_box = WebDriverWait(driver, 10).until(EC.visibility_of_element_located((By.XPATH, '//*[@id=\"frm\"]/div/div/div/a[2]')))\n",
    "popular_box.click()"
   ]
  },
  {
   "cell_type": "code",
   "execution_count": 5,
   "metadata": {},
   "outputs": [],
   "source": [
    "# 페이지 설정 함수 작성\n",
    "# def next_page(text):\n",
    "#     idx = 1\n",
    "#     while idx <= 100:\n",
    "#         try:\n",
    "#             if idx > 1 and idx % 10 == 1:\n",
    "#                 try:\n",
    "#                     next_button = WebDriverWait(driver, 10).until(EC.element_to_be_clickable((By.CSS_SELECTOR, 'a.next')))\n",
    "#                     next_button.click()\n",
    "#                 except Exception as e:\n",
    "#                     print(\"NEXT 버튼을 찾을 수 없음:\", e) # 페이지 이동이 불가능하면 종료\n",
    "#                     break\n",
    "#             else:\n",
    "#                 try:\n",
    "#                     page_buttons = driver.find_elements(By.XPATH, '//*[@id=\"pageObjNavgation\"]/div/span/a')\n",
    "#                     if len(page_buttons) > 0:\n",
    "#                         page_buttons[min(len(page_buttons) - 1, (idx - 1) % 10)].click()\n",
    "#                     else:\n",
    "#                         print(\"페이지 버튼을 찾을 수 없음\")\n",
    "#                         break\n",
    "#                 except Exception as e:\n",
    "#                     print(\"페이지 버튼 클릭 실패:\", e)\n",
    "#                     break\n",
    "\n",
    "#             idx += 1  # 다음 페이지로 넘어가기 위해 idx 증가\n",
    "\n",
    "#         except Exception as e:\n",
    "#             print(\"다음 페이지가 없습니다:\", e)\n",
    "#             break  # 페이지 이동이 불가능하면 반복 종료"
   ]
  },
  {
   "cell_type": "markdown",
   "metadata": {},
   "source": [
    "### 3) 곡 정보 수집 코드"
   ]
  },
  {
   "cell_type": "code",
   "execution_count": null,
   "metadata": {},
   "outputs": [],
   "source": [
    "# 수집 항목\n",
    "title, artist, lyrics, release_date, likes = [], [], [], [], []\n",
    "\n",
    "# 기본 설정 값\n",
    "table_all = driver.find_element(By.XPATH, '//*[@id=\"songList\"]')\n",
    "list_all = driver.find_elements(By.CSS_SELECTOR, \"tbody>tr\")\n",
    "\n",
    "# for idx in range(5):\n",
    "for idx in range(0, len(list_all)+1):\n",
    "    time.sleep(1)\n",
    "    try :\n",
    "        # 스크롤 동적으로 이동 : 인덱스 기반 스크롤\n",
    "        driver.execute_script(f\"window.scrollTo(0, {idx * 85})\")\n",
    "\n",
    "        # 특정 요소가 로드될 때까지 대기\n",
    "        WebDriverWait(driver, 10).until(EC.visibility_of_element_located((By.CSS_SELECTOR, \"tbody>tr\")))\n",
    "        \n",
    "        # 위치 찾아서 진입\n",
    "        table_all = driver.find_element(By.XPATH, '//*[@id=\"songList\"]')\n",
    "        list_all = driver.find_elements(By.CSS_SELECTOR, \"tbody>tr\")\n",
    "\n",
    "        # 현재 곡 클릭\n",
    "        list_click = list_all[idx].find_elements(By.CSS_SELECTOR, \"td\")\n",
    "        list_click[3].click()\n",
    "        # song_click = WebDriverWait(driver, 10).until(EC.visibility_of_element_located((By.CSS_SELECTOR, f\"#frm > div > table > tbody > tr:nth-child({int(idx+1)}) > td:nth-child(4) > div > a:not(.section_hitsong)\")))\n",
    "        # song_click.click()\n",
    "\n",
    "        # 제목 추가\n",
    "        title_text = WebDriverWait(driver, 10).until(EC.visibility_of_element_located((By.CSS_SELECTOR, \".song_name\"))).text\n",
    "        title.append(title_text)\n",
    "\n",
    "        # 아티스트 이름 추가\n",
    "        artist_name = WebDriverWait(driver, 10).until(EC.visibility_of_element_located((By.CSS_SELECTOR, \".artist_name\"))).text\n",
    "        artist.append(artist_name)\n",
    "\n",
    "        # 가사 텍스트 추가\n",
    "        lyrics_text = WebDriverWait(driver, 10).until(EC.visibility_of_element_located((By.CSS_SELECTOR, \".lyric\"))).text\n",
    "        lyrics.append(lyrics_text)\n",
    "\n",
    "        # 발매일 추가\n",
    "        release_text = WebDriverWait(driver, 10).until(EC.visibility_of_element_located((By.XPATH, '//*[@id=\"downloadfrm\"]/div/div/div[2]/div[2]/dl/dd[2]'))).text\n",
    "        release_date.append(release_text)\n",
    "\n",
    "        # 좋아요 개수 추가\n",
    "        likes_text = WebDriverWait(driver, 10).until(EC.visibility_of_element_located((By.CSS_SELECTOR, \".cnt\"))).text\n",
    "        likes.append(likes_text)\n",
    "\n",
    "        # 스크롤 맨위로 올리기\n",
    "        driver.execute_script(f\"window.scrollTo(0, 0)\")\n",
    "\n",
    "        # # 뒤로가기\n",
    "        driver.back()\n",
    "        WebDriverWait(driver, 10).until(EC.visibility_of_element_located((By.XPATH, '//*[@id=\"songList\"]')))\n",
    "    except Exception as e:\n",
    "        print(f\"오류 발생 at index {idx} : {e}\")        \n",
    "        break"
   ]
  },
  {
   "cell_type": "code",
   "execution_count": null,
   "metadata": {},
   "outputs": [],
   "source": [
    "# 수집 항목 초기화\n",
    "title, artist, lyrics, release_date, likes = [], [], [], [], []\n",
    "\n",
    "# 기본 설정 값\n",
    "table_all = driver.find_element(By.XPATH, '//*[@id=\"songList\"]')\n",
    "list_all = driver.find_elements(By.CSS_SELECTOR, \"tbody>tr\")\n",
    "\n",
    "# 페이지 범위 설정 (예: 5000곡을 위해 100페이지 수집)\n",
    "total_pages = 4951\n",
    "\n",
    "for page in range(1, 4951 + 1, 50):\n",
    "    try:\n",
    "        print(f\"현재 페이지: {page}\")\n",
    "        \n",
    "        # 곡 정보 수집 루틴\n",
    "        for idx in range(0, len(list_all)+1):\n",
    "            time.sleep(1)\n",
    "            try:\n",
    "                # 스크롤 동적으로 이동 : 인덱스 기반 스크롤\n",
    "                driver.execute_script(f\"window.scrollTo(0, {idx * 85})\")\n",
    "\n",
    "                # 특정 요소가 로드될 때까지 대기\n",
    "                WebDriverWait(driver, 10).until(EC.visibility_of_element_located((By.CSS_SELECTOR, \"tbody>tr\")))\n",
    "                \n",
    "                # 위치 찾아서 진입\n",
    "                # table_all = driver.find_element(By.XPATH, '//*[@id=\"songList\"]')\n",
    "                # list_all = driver.find_elements(By.CSS_SELECTOR, \"tbody>tr\")\n",
    "\n",
    "                # 현재 곡 클릭\n",
    "                list_click = list_all[idx].find_elements(By.CSS_SELECTOR, \"td\")\n",
    "                list_click[3].click()\n",
    "\n",
    "                # 제목 추가\n",
    "                title_text = WebDriverWait(driver, 10).until(EC.visibility_of_element_located((By.CSS_SELECTOR, \".song_name\"))).text\n",
    "                title.append(title_text)\n",
    "\n",
    "                # 아티스트 이름 추가\n",
    "                artist_name = WebDriverWait(driver, 10).until(EC.visibility_of_element_located((By.CSS_SELECTOR, \".artist_name\"))).text\n",
    "                artist.append(artist_name)\n",
    "\n",
    "                # 가사 텍스트 추가\n",
    "                lyrics_text = WebDriverWait(driver, 10).until(EC.visibility_of_element_located((By.CSS_SELECTOR, \".lyric\"))).text\n",
    "                lyrics.append(lyrics_text)\n",
    "\n",
    "                # 발매일 추가\n",
    "                release_text = WebDriverWait(driver, 10).until(EC.visibility_of_element_located((By.XPATH, '//*[@id=\"downloadfrm\"]/div/div/div[2]/div[2]/dl/dd[2]'))).text\n",
    "                release_date.append(release_text)\n",
    "\n",
    "                # 좋아요 개수 추가\n",
    "                likes_text = WebDriverWait(driver, 10).until(EC.visibility_of_element_located((By.CSS_SELECTOR, \".cnt\"))).text\n",
    "                likes.append(likes_text)\n",
    "\n",
    "                # 스크롤 맨위로 올리기\n",
    "                driver.execute_script(\"window.scrollTo(0, 0)\")\n",
    "\n",
    "                # 뒤로가기\n",
    "                driver.back()\n",
    "                WebDriverWait(driver, 10).until(EC.visibility_of_element_located((By.XPATH, '//*[@id=\"songList\"]')))\n",
    "            except Exception as e:\n",
    "                print(f\"오류 발생 at index {idx}: {e}\")\n",
    "                continue\n",
    "\n",
    "        # 다음 페이지 이동\n",
    "        if page < total_pages:\n",
    "            # JavaScript를 이용해 다음 페이지로 이동\n",
    "            WebDriverWait(driver.execute_script(f\"pageObj.sendPage('{page + 50}')\"), 10)\n",
    "            time.sleep(4)  # 페이지 로딩 대기\n",
    "\n",
    "    except Exception as e:\n",
    "        print(f\"오류 발생 at page {page}: {e}\")\n",
    "        break\n",
    "\n",
    "# 데이터 저장\n",
    "import pandas as pd\n",
    "data = pd.DataFrame({\n",
    "    \"Title\": title,\n",
    "    \"Artist\": artist,\n",
    "    \"Lyrics\": lyrics,\n",
    "    \"Release Date\": release_date,\n",
    "    \"Likes\": likes,\n",
    "})"
   ]
  },
  {
   "cell_type": "markdown",
   "metadata": {},
   "source": [
    "### 4) 수집량 확인"
   ]
  },
  {
   "cell_type": "code",
   "execution_count": null,
   "metadata": {},
   "outputs": [],
   "source": [
    "print(len(data['title']))\n",
    "print(len(data['artist']))\n",
    "print(len(data['lyrics']))\n",
    "print(len(data['release_date']))\n",
    "print(len(data['likes']))"
   ]
  },
  {
   "cell_type": "markdown",
   "metadata": {},
   "source": [
    "## 2. 파일 내보내기"
   ]
  },
  {
   "cell_type": "markdown",
   "metadata": {},
   "source": [
    "### 1) 데이터프레임확인"
   ]
  },
  {
   "cell_type": "code",
   "execution_count": 31,
   "metadata": {},
   "outputs": [
    {
     "data": {
      "text/html": [
       "<div>\n",
       "<style scoped>\n",
       "    .dataframe tbody tr th:only-of-type {\n",
       "        vertical-align: middle;\n",
       "    }\n",
       "\n",
       "    .dataframe tbody tr th {\n",
       "        vertical-align: top;\n",
       "    }\n",
       "\n",
       "    .dataframe thead th {\n",
       "        text-align: right;\n",
       "    }\n",
       "</style>\n",
       "<table border=\"1\" class=\"dataframe\">\n",
       "  <thead>\n",
       "    <tr style=\"text-align: right;\">\n",
       "      <th></th>\n",
       "      <th>title</th>\n",
       "      <th>artist</th>\n",
       "      <th>lyrics</th>\n",
       "      <th>release_date</th>\n",
       "      <th>likes</th>\n",
       "    </tr>\n",
       "  </thead>\n",
       "  <tbody>\n",
       "    <tr>\n",
       "      <th>494</th>\n",
       "      <td>호불호 (Feat. 기리보이) (Prod. By GRAY)</td>\n",
       "      <td>우원재</td>\n",
       "      <td>나 오늘도 걸어 어딘가는 모를 거리\\n여기 혼자 있는 나는 어색해\\n봄은 갔고 여름...</td>\n",
       "      <td>2019.03.11</td>\n",
       "      <td>75,042</td>\n",
       "    </tr>\n",
       "    <tr>\n",
       "      <th>495</th>\n",
       "      <td>1분 1초 (Feat. 타루)</td>\n",
       "      <td>에픽하이 (EPIK HIGH)</td>\n",
       "      <td>I can't let it go 어딜봐도 네\\n모습이 보이고\\n무너지는 내 맘\\n숨...</td>\n",
       "      <td>2008.09.30</td>\n",
       "      <td>35,289</td>\n",
       "    </tr>\n",
       "    <tr>\n",
       "      <th>496</th>\n",
       "      <td>Like A Monster</td>\n",
       "      <td>KickFlip(킥플립)</td>\n",
       "      <td>Yeah 날 둘러싼 사람들\\n길거리에 콜로세움\\n돗자릴 깔았음 한판 벌려 Play ...</td>\n",
       "      <td>2025.01.20</td>\n",
       "      <td>761</td>\n",
       "    </tr>\n",
       "    <tr>\n",
       "      <th>497</th>\n",
       "      <td>달려라 방탄</td>\n",
       "      <td>방탄소년단</td>\n",
       "      <td>논현 100m 우리 자리\\n학교 끝나면 회사 calling\\n(예, 예)\\n아 지금...</td>\n",
       "      <td>2022.06.10</td>\n",
       "      <td>72,058</td>\n",
       "    </tr>\n",
       "    <tr>\n",
       "      <th>498</th>\n",
       "      <td>Gear 2 (Remastered)</td>\n",
       "      <td>루피 (Loopy)</td>\n",
       "      <td>굳이 하지 않을 거야\\n나는 나의 rap 증명\\n보여주고 증명하는 태도는\\n후진 거...</td>\n",
       "      <td>2018.07.05</td>\n",
       "      <td>29,836</td>\n",
       "    </tr>\n",
       "  </tbody>\n",
       "</table>\n",
       "</div>"
      ],
      "text/plain": [
       "                                title            artist  \\\n",
       "494  호불호 (Feat. 기리보이) (Prod. By GRAY)               우원재   \n",
       "495                  1분 1초 (Feat. 타루)  에픽하이 (EPIK HIGH)   \n",
       "496                    Like A Monster     KickFlip(킥플립)   \n",
       "497                            달려라 방탄             방탄소년단   \n",
       "498               Gear 2 (Remastered)        루피 (Loopy)   \n",
       "\n",
       "                                                lyrics release_date   likes  \n",
       "494  나 오늘도 걸어 어딘가는 모를 거리\\n여기 혼자 있는 나는 어색해\\n봄은 갔고 여름...   2019.03.11  75,042  \n",
       "495  I can't let it go 어딜봐도 네\\n모습이 보이고\\n무너지는 내 맘\\n숨...   2008.09.30  35,289  \n",
       "496  Yeah 날 둘러싼 사람들\\n길거리에 콜로세움\\n돗자릴 깔았음 한판 벌려 Play ...   2025.01.20     761  \n",
       "497  논현 100m 우리 자리\\n학교 끝나면 회사 calling\\n(예, 예)\\n아 지금...   2022.06.10  72,058  \n",
       "498  굳이 하지 않을 거야\\n나는 나의 rap 증명\\n보여주고 증명하는 태도는\\n후진 거...   2018.07.05  29,836  "
      ]
     },
     "execution_count": 31,
     "metadata": {},
     "output_type": "execute_result"
    }
   ],
   "source": [
    "# 데이터 확인하기\n",
    "data.tail()"
   ]
  },
  {
   "cell_type": "markdown",
   "metadata": {},
   "source": [
    "### 2) 데이터 내보내기"
   ]
  },
  {
   "cell_type": "code",
   "execution_count": 30,
   "metadata": {},
   "outputs": [
    {
     "name": "stdout",
     "output_type": "stream",
     "text": [
      "수집 완료 및 저장 완료!\n"
     ]
    }
   ],
   "source": [
    "# 데이터 csv파일로 내보내기\n",
    "data.to_csv(r\"C:\\Wanted\\02_ProjectCollections\\25.01_프로젝트#2_'BE MY MUSE' 작사 공모전\\(Data)\\'music_data.csv'\", index=False, encoding='utf-8-sig')\n",
    "print(\"수집 완료 및 저장 완료!\")"
   ]
  }
 ],
 "metadata": {
  "kernelspec": {
   "display_name": "rapids-24.12",
   "language": "python",
   "name": "python3"
  },
  "language_info": {
   "codemirror_mode": {
    "name": "ipython",
    "version": 3
   },
   "file_extension": ".py",
   "mimetype": "text/x-python",
   "name": "python",
   "nbconvert_exporter": "python",
   "pygments_lexer": "ipython3",
   "version": "3.11.11"
  }
 },
 "nbformat": 4,
 "nbformat_minor": 2
}
