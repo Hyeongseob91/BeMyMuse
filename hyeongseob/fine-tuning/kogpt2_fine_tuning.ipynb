{
 "cells": [
  {
   "cell_type": "markdown",
   "metadata": {},
   "source": [
    "# LM 모델 활용하기"
   ]
  },
  {
   "cell_type": "markdown",
   "metadata": {},
   "source": [
    "## 1. GPU 설정하기"
   ]
  },
  {
   "cell_type": "code",
   "execution_count": 1,
   "metadata": {},
   "outputs": [
    {
     "name": "stdout",
     "output_type": "stream",
     "text": [
      "True\n",
      "2\n",
      "NVIDIA GeForce RTX 4090\n",
      "None\n",
      "Using device: cuda:0\n"
     ]
    }
   ],
   "source": [
    "# 1. GPU 사용 여부 확인\n",
    "import torch\n",
    "\n",
    "# 2. GPU 사용 가능 여부 확인\n",
    "print(torch.cuda.is_available())        # True라면 GPU 사용 가능\n",
    "print(torch.cuda.device_count())        # 사용 가능한 GPU 개수 출력\n",
    "print(torch.cuda.get_device_name(0))    # 첫 번째 GPU 이름 출력\n",
    "print(torch.cuda.empty_cache())         # cuda 메모리 초기화, 캐시 삭제\n",
    "\n",
    "# 3. 디바이스 설정 (GPU가 없으면 CPU 사용)\n",
    "device = torch.device(0)\n",
    "print(f\"Using device: {device}\")"
   ]
  },
  {
   "cell_type": "markdown",
   "metadata": {},
   "source": [
    "## 2. 텍스트 생성 모델 설정 : KoGPT2, \"skt/kogpt2-base-v2\""
   ]
  },
  {
   "cell_type": "markdown",
   "metadata": {},
   "source": [
    "### 1) KoGPT2 모델 파인튜닝 전 텍스트 생성하기"
   ]
  },
  {
   "cell_type": "code",
   "execution_count": 3,
   "metadata": {},
   "outputs": [
    {
     "name": "stdout",
     "output_type": "stream",
     "text": [
      "Generated Text:\n",
      "여유로움, 쓸쓸함, 안락함 등이 있었다.\n",
      "아이들은 더 이상 눈곱만큼도 묻지 않은 채 엄마의 뒷모습을 바라보고 있었다.\n",
      "그러나 이런 아이들은 어른 못지 않게, 아이를 사랑하는데 익숙지 않았다.\n",
      "부모는 아이에게 가까이 할 수 있는 것이 없었다.\n",
      "그들의 모습에 놀랐다\n",
      "하지만 그럴수록 아이는 엄마에게 키스를 하고 싶어졌다.\n",
      "아이는 또래보다 엄마는 자신의 앞 모습만을 보고 자란다는 사실 때문에 울었다.\n",
      "그러면서 아이들이 어렸을 때 엄마가 아이의 옆에 있으면 안 된다는 생각이 들었다.\n",
      "엄마 없는 아이로 성장한 아이가 아빠를 만났을 때는 너무 끔찍한 것이었다.\n",
      "우리 부부는 두 딸을 입양해 살았다.\n",
      "30년이 훨씬 지난 지금 그들은 모두 건강하게 자라고 있다.\n",
      "하지만 아직도 많은 부모들이 세 자녀를 키우는 것에 대해 망설이고 있을 것이다.\n",
      "두 자녀와 네 가정이 현재 양육시스템에 적응하고 있다면 미래는 밝은 것 같지만, 그렇지 못하는 부모가 부지기수일 것이다.\n",
      "더욱이, 지금의 장모가 아이들에게 집착하는 모습을 볼 때, 이들은 그 상황이 불쌍하기 짝이 없을 것이라고 믿었을지도 모른다.\n",
      "지금 우리 사회는 무책임과 약자로 가득한 편이다.\n",
      "잘못된 부모 교육은 비난받기 십상이다.\n",
      "한때 성장 과정에 실패했던 사람들은 왜 그토록 자식을 키우려 하는가.\n",
      "성장이 곧 부모의 책임이라고 말하면, 그들은 아직은 부족하다는 것을 인정해야 한다.\n",
      "그리고 부모와 아이들의 관계를 부정적으로 바라보는 것은 잘못된 사실이다.\n",
      "실제로 대부분의 사람들은 성장의 과정에도 책임이 있다고 생각한다.\n",
      "성공적인 교육이나 좋은 일이 그렇게 많다고 해서 모두가 자신이 잘하는 것처럼 말할 수도 없겠지만, 교육의 결과는 또한 마찬가지로 나빠질 수밖에 없다\n"
     ]
    },
    {
     "data": {
      "text/plain": [
       "845"
      ]
     },
     "execution_count": 3,
     "metadata": {},
     "output_type": "execute_result"
    }
   ],
   "source": [
    "from transformers import GPT2LMHeadModel, AutoTokenizer\n",
    "from tqdm import tqdm\n",
    "\n",
    "# 저장된 모델 및 토크나이저 로드\n",
    "model = GPT2LMHeadModel.from_pretrained(\"skt/kogpt2-base-v2\")\n",
    "tokenizer = AutoTokenizer.from_pretrained(\"skt/kogpt2-base-v2\")\n",
    "\n",
    "# 모델을 GPU로 이동\n",
    "model.to(\"cuda\")\n",
    "model.eval()  # 평가 모드로 전환 (dropout 비활성화)\n",
    "\n",
    "# 프롬프트 정의\n",
    "prompt = \"여유로움, 쓸쓸함, 안락함\"\n",
    "\n",
    "# 텍스트를 토큰화\n",
    "input_ids = tokenizer(prompt, return_tensors=\"pt\").input_ids.to(\"cuda\")\n",
    "\n",
    "# 텍스트 생성\n",
    "output = model.generate(\n",
    "    input_ids=input_ids,\n",
    "    max_length=300,  # 생성할 텍스트의 최대 길이\n",
    "    temperature=1.0,  # 창의성 제어 (높을수록 랜덤한 결과)\n",
    "    top_k=200,  # 높은 확률의 k개 토큰만 고려\n",
    "    top_p=0.95,  # 확률의 누적 합이 0.9 이하인 토큰만 고려\n",
    "    repetition_penalty=1.2,  # 반복을 줄이기 위한 페널티\n",
    "    do_sample=True,  # 샘플링 사용\n",
    "    num_return_sequences=3 # 3개 문장 생성하기기\n",
    ")\n",
    "\n",
    "# 생성된 텍스트 디코딩\n",
    "generated_text = tokenizer.decode(output[0], skip_special_tokens=True)\n",
    "\n",
    "# 결과 출력\n",
    "print(\"Generated Text:\")\n",
    "print(generated_text[:-1])\n",
    "len(generated_text)"
   ]
  },
  {
   "cell_type": "markdown",
   "metadata": {},
   "source": [
    "### 2) 노래 가사 처럼 출력하기 위한 Fine-Tuning Process"
   ]
  },
  {
   "cell_type": "code",
   "execution_count": 5,
   "metadata": {},
   "outputs": [
    {
     "data": {
      "text/plain": [
       "GPT2LMHeadModel(\n",
       "  (transformer): GPT2Model(\n",
       "    (wte): Embedding(51201, 768)\n",
       "    (wpe): Embedding(1024, 768)\n",
       "    (drop): Dropout(p=0.1, inplace=False)\n",
       "    (h): ModuleList(\n",
       "      (0-11): 12 x GPT2Block(\n",
       "        (ln_1): LayerNorm((768,), eps=1e-05, elementwise_affine=True)\n",
       "        (attn): GPT2Attention(\n",
       "          (c_attn): Conv1D(nf=2304, nx=768)\n",
       "          (c_proj): Conv1D(nf=768, nx=768)\n",
       "          (attn_dropout): Dropout(p=0.1, inplace=False)\n",
       "          (resid_dropout): Dropout(p=0.1, inplace=False)\n",
       "        )\n",
       "        (ln_2): LayerNorm((768,), eps=1e-05, elementwise_affine=True)\n",
       "        (mlp): GPT2MLP(\n",
       "          (c_fc): Conv1D(nf=3072, nx=768)\n",
       "          (c_proj): Conv1D(nf=768, nx=3072)\n",
       "          (act): NewGELUActivation()\n",
       "          (dropout): Dropout(p=0.1, inplace=False)\n",
       "        )\n",
       "      )\n",
       "    )\n",
       "    (ln_f): LayerNorm((768,), eps=1e-05, elementwise_affine=True)\n",
       "  )\n",
       "  (lm_head): Linear(in_features=768, out_features=51201, bias=False)\n",
       ")"
      ]
     },
     "execution_count": 5,
     "metadata": {},
     "output_type": "execute_result"
    }
   ],
   "source": [
    "# 1. 모듈 불러오기\n",
    "from transformers import AutoTokenizer, GPT2LMHeadModel, AdamW, get_scheduler\n",
    "from torch.utils.data import Dataset, DataLoader\n",
    "from sklearn.model_selection import train_test_split\n",
    "import pandas as pd\n",
    "import torch\n",
    "\n",
    "# 2. 모델 설정하기\n",
    "model_name = \"skt/kogpt2-base-v2\"\n",
    "\n",
    "# 3. 토크나이저 설정하기\n",
    "tokenizer = AutoTokenizer.from_pretrained(model_name)\n",
    "tokenizer.pad_token = tokenizer.eos_token # 패딩 토큰 설정\n",
    "\n",
    "# 4. 데이터셋 클래스 정의\n",
    "class LyricsDataset(Dataset):\n",
    "    def __init__(self, texts, tokenizer, max_length=128):\n",
    "        self.texts = texts.reset_index(drop=True)\n",
    "        self.tokenizer = tokenizer\n",
    "        self.max_length = max_length\n",
    "\n",
    "    def __len__(self):\n",
    "        return len(self.texts)\n",
    "\n",
    "    def __getitem__(self, idx):\n",
    "        text = str(self.texts.iloc[idx])\n",
    "        inputs = self.tokenizer(\n",
    "            text,\n",
    "            truncation=True,\n",
    "            padding=\"max_length\",\n",
    "            max_length=self.max_length,\n",
    "            return_tensors=\"pt\",\n",
    "        )\n",
    "        inputs[\"labels\"] = inputs[\"input_ids\"].clone()\n",
    "        return {key: val.squeeze(0).to(\"cuda\") for key, val in inputs.items()}\n",
    "\n",
    "# 5. 수집 데이터 불러오기\n",
    "csv_data = pd.read_csv(r\"/home/wanted-1/potenup-workspace/Project/project2/team5/1.데이터모음/'music_data(Merge)'.csv\")\n",
    "lyrics_texts = csv_data[\"lyrics\"]\n",
    "\n",
    "# 6. 학습, 검증 데이터 분리\n",
    "train_texts, val_texts = train_test_split(lyrics_texts, test_size=0.2, random_state=42)\n",
    "train_dataset = LyricsDataset(train_texts, tokenizer)\n",
    "val_dataset = LyricsDataset(val_texts, tokenizer)\n",
    "\n",
    "train_dataloader = DataLoader(train_dataset, batch_size=16, shuffle=True)\n",
    "val_dataloader = DataLoader(val_dataset, batch_size=16, shuffle=True)\n",
    "\n",
    "# 7. 모델 로드 및 GPU로 이동\n",
    "model = GPT2LMHeadModel.from_pretrained(model_name)\n",
    "model.resize_token_embeddings(len(tokenizer))\n",
    "model.to(\"cuda\")\n",
    "model.train()"
   ]
  },
  {
   "cell_type": "code",
   "execution_count": null,
   "metadata": {},
   "outputs": [],
   "source": [
    "# 8. 옵티마이저, 스케줄러 설정\n",
    "optimizer = AdamW(model.parameters(), lr=5e-5, weight_decay=0.01)\n",
    "scheduler = get_scheduler(\"linear\", optimizer=optimizer, num_warmup_steps=500, num_training_steps=len(train_dataloader) * 3)\n",
    "# 학습 루프\n",
    "for epoch in range(10):\n",
    "    total_train_loss = 0\n",
    "\n",
    "    for batch in train_dataloader:\n",
    "        input_ids = batch[\"input_ids\"]\n",
    "        attention_mask = batch[\"attention_mask\"]\n",
    "        labels = batch[\"labels\"]\n",
    "        \n",
    "        outputs = model(input_ids=input_ids, attention_mask=attention_mask, labels=labels)\n",
    "        loss = outputs.loss\n",
    "        total_train_loss += loss.item()\n",
    "        \n",
    "        loss.backward()\n",
    "        optimizer.step()\n",
    "        scheduler.step()\n",
    "        optimizer.zero_grad()\n",
    "\n",
    "    avg_train_loss = total_train_loss / len(train_dataloader)\n",
    "\n",
    "# 검증 과정\n",
    "    model.eval()\n",
    "    total_val_loss = 0\n",
    "    with torch.no_grad():\n",
    "        for batch in val_dataloader:\n",
    "            outputs = model(input_ids=batch[\"input_ids\"], attention_mask=batch[\"attention_mask\"], labels=batch[\"labels\"])\n",
    "            total_val_loss += outputs.loss.item()\n",
    "    \n",
    "    avg_val_loss = total_val_loss / len(val_dataloader)\n",
    "    \n",
    "    print(f\"Epoch {epoch+1}: Train Loss: {avg_train_loss:.2f}, Validation Loss: {avg_val_loss:.2f}\")"
   ]
  },
  {
   "cell_type": "markdown",
   "metadata": {},
   "source": [
    "### 3) Fine_tuned model 저장하기"
   ]
  },
  {
   "cell_type": "code",
   "execution_count": 2,
   "metadata": {},
   "outputs": [
    {
     "data": {
      "text/plain": [
       "('./fine_tuned_new_model/tokenizer_config.json',\n",
       " './fine_tuned_new_model/special_tokens_map.json',\n",
       " './fine_tuned_new_model/vocab.json',\n",
       " './fine_tuned_new_model/merges.txt',\n",
       " './fine_tuned_new_model/added_tokens.json',\n",
       " './fine_tuned_new_model/tokenizer.json')"
      ]
     },
     "execution_count": 2,
     "metadata": {},
     "output_type": "execute_result"
    }
   ],
   "source": [
    "# 모델 저장\n",
    "model.save_pretrained(\"./fine_tuned_new_model\")\n",
    "tokenizer.save_pretrained(\"./fine_tuned_new_model\")"
   ]
  },
  {
   "cell_type": "markdown",
   "metadata": {},
   "source": [
    "### 4) Fine-tuning 학습 & 검증 과정 손실 시각화"
   ]
  },
  {
   "cell_type": "code",
   "execution_count": 7,
   "metadata": {},
   "outputs": [
    {
     "data": {
      "image/png": "[encoded data removed]",
      "text/plain": [
       "<Figure size 800x500 with 1 Axes>"
      ]
     },
     "metadata": {},
     "output_type": "display_data"
    }
   ],
   "source": [
    "import koreanize_matplotlib\n",
    "import matplotlib.pyplot as plt\n",
    "\n",
    "# 예제 데이터 (Epoch별 Train Loss & Validation Loss)\n",
    "epochs = [1, 2, 3, 4, 5, 6, 7, 8, 9, 10]\n",
    "train_losses = [3.69, 3.30, 2.91, 2.55, 2.55, 2.55, 2.55, 2.55, 2.55, 2.55]\n",
    "val_losses = [3.45, 3.32, 3.22, 3.22, 3.22, 3.22, 3.22, 3.22, 3.22, 3.22]\n",
    "\n",
    "# 그래프 그리기\n",
    "plt.figure(figsize=(8, 5))\n",
    "plt.plot(epochs, train_losses, marker='o', linestyle='-', label='Train Loss', color='blue')\n",
    "plt.plot(epochs, val_losses, marker='s', linestyle='-', label='Validation Loss', color='orange')\n",
    "\n",
    "# 그래프 제목 및 레이블 설정\n",
    "plt.xlabel('에포크 수')\n",
    "plt.ylabel('손실 값')\n",
    "plt.title('훈련 손실 및 검증 손실 변화')\n",
    "plt.legend()\n",
    "plt.grid(True)\n",
    "\n",
    "# 그래프 표시\n",
    "plt.show()"
   ]
  },
  {
   "cell_type": "markdown",
   "metadata": {},
   "source": [
    "## 3. 텍스트 생성"
   ]
  },
  {
   "cell_type": "markdown",
   "metadata": {},
   "source": [
    "### 1) Fine-tuned 모델 사용하여 노래가사 10개 생성하기"
   ]
  },
  {
   "cell_type": "code",
   "execution_count": 12,
   "metadata": {},
   "outputs": [
    {
     "name": "stdout",
     "output_type": "stream",
     "text": [
      "\n",
      "generated_texts:\n",
      "1. 여유로움, 쓸쓸함, 안락함\n",
      "그럴수록 내 안에 포근한 너는 필요해 넌 거기 있어 줄래야 사라지지 않아 나 어떡하면 될까\n",
      "너에게 가는 발걸음은 마치 꽃처럼 다가오지만\n",
      "여기 저기서 바라보는 네 눈빛은 너무나 따스해서 그 어떤 것도 나를 채울 수가 없어 \n",
      "행복함을 아는 건 어쩌면 그리 쉬운 일이 아닐 거라 생각해\n",
      "다 알면서도 나는 다 몰라, 난 정말 미안해, 이젠 다시 말할게 또 이상하지 않은 걸 알아서\n",
      "다시 한번 말해볼게, 너무 행복하게 날 보내줘서 고마워, 우리 사이 좋아?\n",
      "어느 새 한 번 더 널 바라보던 모습이 나의 맘을 적시네요 내가 사랑했던\n",
      "\n"
     ]
    }
   ],
   "source": [
    "from transformers import GPT2LMHeadModel, AutoTokenizer\n",
    "import torch\n",
    "\n",
    "# 1. 저장된 모델 및 토크나이저 로드\n",
    "model = GPT2LMHeadModel.from_pretrained(\"./fine_tuned_new_model\")\n",
    "tokenizer = AutoTokenizer.from_pretrained(\"./fine_tuned_new_model\")\n",
    "\n",
    "model.to(\"cuda\")\n",
    "model.eval()\n",
    "\n",
    "# 2. 프롬프트 정의\n",
    "prompt = \"여유로움, 쓸쓸함, 안락함\"\n",
    "\n",
    "# 3. 텍스트 생성\n",
    "input_ids = tokenizer(prompt, return_tensors=\"pt\").input_ids.to(\"cuda\")\n",
    "\n",
    "with torch.no_grad():\n",
    "    output = model.generate(\n",
    "        input_ids=input_ids,\n",
    "        max_length=150,  # 생성할 텍스트의 최대 길이 (토큰갯수 기준)\n",
    "        temperature=0.9,  # 창의성 제어 (높을수록 랜덤한 결과)\n",
    "        top_k=70,  # 높은 확률의 k개 토큰만 고려\n",
    "        top_p=0.90,  # 확률의 누적 합이 0.9 이하인 토큰만 고려\n",
    "        repetition_penalty=1.5,  # 반복을 줄이기 위한 페널티\n",
    "        do_sample=True,  # 샘플링 사용\n",
    "        num_return_sequences=1 # 10개 문장 생성하기기\n",
    "    )\n",
    "\n",
    "# 4. 생성된 텍스트 디코딩 및 출력\n",
    "generated_texts = [tokenizer.decode(out, skip_special_tokens=True) for out in output]\n",
    "\n",
    "print(\"\\ngenerated_texts:\")\n",
    "for idx, text in enumerate(generated_texts):\n",
    "    print(f\"{idx+1}. {text}\\n\")"
   ]
  },
  {
   "cell_type": "code",
   "execution_count": 13,
   "metadata": {},
   "outputs": [
    {
     "data": {
      "text/plain": [
       "['여유로움, 쓸쓸함, 안락함\\n그럴수록 내 안에 포근한 너는 필요해 넌 거기 있어 줄래야 사라지지 않아 나 어떡하면 될까\\n너에게 가는 발걸음은 마치 꽃처럼 다가오지만\\n여기 저기서 바라보는 네 눈빛은 너무나 따스해서 그 어떤 것도 나를 채울 수가 없어 \\n행복함을 아는 건 어쩌면 그리 쉬운 일이 아닐 거라 생각해\\n다 알면서도 나는 다 몰라, 난 정말 미안해, 이젠 다시 말할게 또 이상하지 않은 걸 알아서\\n다시 한번 말해볼게, 너무 행복하게 날 보내줘서 고마워, 우리 사이 좋아?\\n어느 새 한 번 더 널 바라보던 모습이 나의 맘을 적시네요 내가 사랑했던']"
      ]
     },
     "execution_count": 13,
     "metadata": {},
     "output_type": "execute_result"
    }
   ],
   "source": [
    "generated_texts"
   ]
  },
  {
   "cell_type": "markdown",
   "metadata": {},
   "source": [
    "### 2) 생성된 텍스트 평가 (BLEU, ROUGE, Perplexity)\n",
    "- BLEU 점수: 생성된 텍스트와 원본 텍스트의 유사도를 측정\n",
    "- ROUGE 점수: 생성된 텍스트와 원본 텍스트 간의 중복되는 단어 비율을 측정\n",
    "- Perplexity: 모델의 언어 생성이 얼마나 자연스러운지 평가"
   ]
  },
  {
   "cell_type": "code",
   "execution_count": 14,
   "metadata": {},
   "outputs": [
    {
     "name": "stdout",
     "output_type": "stream",
     "text": [
      "BLEU Score: 0.7642\n",
      "ROUGE Score: {'rouge1': np.float64(0.3681172839506173), 'rouge2': np.float64(0.36971903982542276), 'rougeL': np.float64(0.370846875787352), 'rougeLsum': np.float64(0.37024313429075334)}\n",
      "Perplexity: 18.9803\n"
     ]
    }
   ],
   "source": [
    "from evaluate import load\n",
    "import numpy as np\n",
    "\n",
    "# 1. 평가 지표 불러오기\n",
    "bleu = load(\"bleu\")\n",
    "rouge = load(\"rouge\")\n",
    "\n",
    "# 2. 테스트 데이터에서 일부 샘플 가져오기\n",
    "num_samples = 10\n",
    "test_samples = val_texts.sample(num_samples).tolist()\n",
    "\n",
    "# 3. 모델 예측 및 평가\n",
    "references = []\n",
    "predictions = []\n",
    "\n",
    "for sample in test_samples:\n",
    "    input_ids = tokenizer(sample, return_tensors=\"pt\", truncation=True, max_length=512).input_ids.to(\"cuda\")\n",
    "    \n",
    "    with torch.no_grad():\n",
    "        output = model.generate(input_ids=input_ids, max_new_tokens=100, do_sample=True)\n",
    "    \n",
    "    generated_text = tokenizer.decode(output[0], skip_special_tokens=True)\n",
    "    \n",
    "    references.append([sample])  # BLEU 평가는 다중 참조 가능하므로 리스트로 감싸기\n",
    "    predictions.append(generated_text)\n",
    "\n",
    "# 4. BLEU 점수 계산\n",
    "bleu_score = bleu.compute(predictions=predictions, references=references)\n",
    "print(f\"BLEU Score: {bleu_score['bleu']:.4f}\")\n",
    "\n",
    "# 5. ROUGE 점수 계산\n",
    "rouge_score = rouge.compute(predictions=predictions, references=references)\n",
    "print(f\"ROUGE Score: {rouge_score}\")\n",
    "\n",
    "# 6. Perplexity(혼란도) 계산\n",
    "def compute_perplexity(model, text):\n",
    "    inputs = tokenizer(text, return_tensors=\"pt\", truncation=True, max_length=512)\n",
    "    inputs = {key: value.to(\"cuda\") for key, value in inputs.items()}\n",
    "    \n",
    "    with torch.no_grad():\n",
    "        outputs = model(**inputs, labels=inputs[\"input_ids\"])  # 🔥 labels 추가\n",
    "    \n",
    "    if outputs.loss is None:\n",
    "        print(\"Warning: Model did not return a loss value.\")\n",
    "        return np.nan  # 오류 방지를 위해 NaN 반환\n",
    "    \n",
    "    loss = outputs.loss.item()\n",
    "    return np.exp(loss)\n",
    "\n",
    "perplexities = [compute_perplexity(model, text) for text in test_samples]\n",
    "avg_perplexity = np.nanmean(perplexities)  # NaN 값 제외하고 평균 계산\n",
    "print(f\"Perplexity: {avg_perplexity:.4f}\")"
   ]
  },
  {
   "cell_type": "markdown",
   "metadata": {},
   "source": [
    "### 3) 생성된 텍스트의 BLEU, ROUGE, Perplexity 등의 결과 시각화"
   ]
  },
  {
   "cell_type": "code",
   "execution_count": 15,
   "metadata": {},
   "outputs": [
    {
     "data": {
      "image/png": "[encoded data removed]",
      "text/plain": [
       "<Figure size 800x500 with 1 Axes>"
      ]
     },
     "metadata": {},
     "output_type": "display_data"
    }
   ],
   "source": [
    "import numpy as np\n",
    "import koreanize_matplotlib\n",
    "import matplotlib.pyplot as plt\n",
    "\n",
    "# 예제 데이터 (BLEU, ROUGE, Perplexity 평가 결과)\n",
    "metrics = [\"BLEU\", \"ROUGE-1\", \"ROUGE-2\", \"ROUGE-L\", \"Perplexity\"]\n",
    "scores = [float(f\"{bleu_score['bleu']:.4f}\"), float(f\"{rouge_score['rouge1']}\"), float(f\"{rouge_score['rouge2']}\"), float(f\"{rouge_score['rougeL']}\"), float(f\"{avg_perplexity:.4f}\")]  # 가상의 평가 점수\n",
    "\n",
    "# 그래프 그리기\n",
    "plt.figure(figsize=(8, 5))\n",
    "plt.bar(metrics, scores, color=['blue', 'orange', 'green', 'red', 'purple'])\n",
    "\n",
    "# 그래프 제목 및 레이블 설정 (한글 적용)\n",
    "plt.xlabel(\"평가 지표\")\n",
    "plt.ylabel(\"점수\")\n",
    "plt.title(\"생성된 텍스트 평가 결과\")\n",
    "plt.ylim(0, max(scores) + 5)  # y축 범위 조정\n",
    "\n",
    "# 그래프 값 표시\n",
    "for i, score in enumerate(scores):\n",
    "    plt.text(i, score + 0.5, f\"{score:.2f}\", ha=\"center\", fontsize=10)\n",
    "\n",
    "# 그래프 표시\n",
    "plt.show()"
   ]
  },
  {
   "cell_type": "markdown",
   "metadata": {},
   "source": [
    "## 4. 텍스트 감성 분류 모델 설정 : KOTE, \"searle-j/kote_for_easygoing_people\""
   ]
  },
  {
   "cell_type": "markdown",
   "metadata": {},
   "source": [
    "### 1) 분류 기준 설정"
   ]
  },
  {
   "cell_type": "code",
   "execution_count": 30,
   "metadata": {},
   "outputs": [
    {
     "name": "stderr",
     "output_type": "stream",
     "text": [
      "Device set to use cuda:0\n",
      "/home/wanted-1/miniconda3/envs/team5/lib/python3.11/site-packages/transformers/pipelines/text_classification.py:106: UserWarning: `return_all_scores` is now deprecated,  if want a similar functionality use `top_k=None` instead of `return_all_scores=True` or `top_k=1` instead of `return_all_scores=False`.\n",
      "  warnings.warn(\n"
     ]
    }
   ],
   "source": [
    "# 1. 모듈 불러오기\n",
    "import pandas as pd\n",
    "from datasets import load_dataset\n",
    "import torch\n",
    "from transformers import AutoTokenizer, AutoModelForSequenceClassification, TextClassificationPipeline\n",
    "\n",
    "# 2. 토크나이저 및 모델 불러오기 \n",
    "tokenizer = AutoTokenizer.from_pretrained(\"searle-j/kote_for_easygoing_people\")\n",
    "model = AutoModelForSequenceClassification.from_pretrained(\"searle-j/kote_for_easygoing_people\")\n",
    "\n",
    "# 3. 감성 분석 분류 기준 설정 \n",
    "pipe = TextClassificationPipeline(\n",
    "        model=model,\n",
    "        tokenizer=tokenizer,\n",
    "        device=0, # gpu number, -1 if cpu used\n",
    "        return_all_scores=True,\n",
    "        function_to_apply='sigmoid'\n",
    "    )"
   ]
  },
  {
   "cell_type": "markdown",
   "metadata": {},
   "source": [
    "### 2) 생성 된 가사 감성 분류하기"
   ]
  },
  {
   "cell_type": "code",
   "execution_count": 26,
   "metadata": {},
   "outputs": [
    {
     "data": {
      "text/html": [
       "<div>\n",
       "<style scoped>\n",
       "    .dataframe tbody tr th:only-of-type {\n",
       "        vertical-align: middle;\n",
       "    }\n",
       "\n",
       "    .dataframe tbody tr th {\n",
       "        vertical-align: top;\n",
       "    }\n",
       "\n",
       "    .dataframe thead th {\n",
       "        text-align: right;\n",
       "    }\n",
       "</style>\n",
       "<table border=\"1\" class=\"dataframe\">\n",
       "  <thead>\n",
       "    <tr style=\"text-align: right;\">\n",
       "      <th></th>\n",
       "      <th>text</th>\n",
       "      <th>label</th>\n",
       "      <th>score</th>\n",
       "    </tr>\n",
       "  </thead>\n",
       "  <tbody>\n",
       "    <tr>\n",
       "      <th>0</th>\n",
       "      <td>여유로움, 쓸쓸함, 안락함 그럴수록 내 안에 포근한 너는 필요해 넌 거기 있어 줄래...</td>\n",
       "      <td>환영/호의</td>\n",
       "      <td>0.403206</td>\n",
       "    </tr>\n",
       "    <tr>\n",
       "      <th>1</th>\n",
       "      <td>여유로움, 쓸쓸함, 안락함 그럴수록 내 안에 포근한 너는 필요해 넌 거기 있어 줄래...</td>\n",
       "      <td>감동/감탄</td>\n",
       "      <td>0.665159</td>\n",
       "    </tr>\n",
       "    <tr>\n",
       "      <th>2</th>\n",
       "      <td>여유로움, 쓸쓸함, 안락함 그럴수록 내 안에 포근한 너는 필요해 넌 거기 있어 줄래...</td>\n",
       "      <td>고마움</td>\n",
       "      <td>0.826028</td>\n",
       "    </tr>\n",
       "    <tr>\n",
       "      <th>3</th>\n",
       "      <td>여유로움, 쓸쓸함, 안락함 그럴수록 내 안에 포근한 너는 필요해 넌 거기 있어 줄래...</td>\n",
       "      <td>슬픔</td>\n",
       "      <td>0.718082</td>\n",
       "    </tr>\n",
       "    <tr>\n",
       "      <th>4</th>\n",
       "      <td>여유로움, 쓸쓸함, 안락함 그럴수록 내 안에 포근한 너는 필요해 넌 거기 있어 줄래...</td>\n",
       "      <td>기대감</td>\n",
       "      <td>0.414624</td>\n",
       "    </tr>\n",
       "    <tr>\n",
       "      <th>5</th>\n",
       "      <td>여유로움, 쓸쓸함, 안락함 그럴수록 내 안에 포근한 너는 필요해 넌 거기 있어 줄래...</td>\n",
       "      <td>편안/쾌적</td>\n",
       "      <td>0.556532</td>\n",
       "    </tr>\n",
       "    <tr>\n",
       "      <th>6</th>\n",
       "      <td>여유로움, 쓸쓸함, 안락함 그럴수록 내 안에 포근한 너는 필요해 넌 거기 있어 줄래...</td>\n",
       "      <td>아껴주는</td>\n",
       "      <td>0.841833</td>\n",
       "    </tr>\n",
       "    <tr>\n",
       "      <th>7</th>\n",
       "      <td>여유로움, 쓸쓸함, 안락함 그럴수록 내 안에 포근한 너는 필요해 넌 거기 있어 줄래...</td>\n",
       "      <td>힘듦/지침</td>\n",
       "      <td>0.494305</td>\n",
       "    </tr>\n",
       "    <tr>\n",
       "      <th>8</th>\n",
       "      <td>여유로움, 쓸쓸함, 안락함 그럴수록 내 안에 포근한 너는 필요해 넌 거기 있어 줄래...</td>\n",
       "      <td>깨달음</td>\n",
       "      <td>0.503378</td>\n",
       "    </tr>\n",
       "    <tr>\n",
       "      <th>9</th>\n",
       "      <td>여유로움, 쓸쓸함, 안락함 그럴수록 내 안에 포근한 너는 필요해 넌 거기 있어 줄래...</td>\n",
       "      <td>불쌍함/연민</td>\n",
       "      <td>0.464545</td>\n",
       "    </tr>\n",
       "    <tr>\n",
       "      <th>10</th>\n",
       "      <td>여유로움, 쓸쓸함, 안락함 그럴수록 내 안에 포근한 너는 필요해 넌 거기 있어 줄래...</td>\n",
       "      <td>행복</td>\n",
       "      <td>0.848950</td>\n",
       "    </tr>\n",
       "    <tr>\n",
       "      <th>11</th>\n",
       "      <td>여유로움, 쓸쓸함, 안락함 그럴수록 내 안에 포근한 너는 필요해 넌 거기 있어 줄래...</td>\n",
       "      <td>기쁨</td>\n",
       "      <td>0.717102</td>\n",
       "    </tr>\n",
       "    <tr>\n",
       "      <th>12</th>\n",
       "      <td>여유로움, 쓸쓸함, 안락함 그럴수록 내 안에 포근한 너는 필요해 넌 거기 있어 줄래...</td>\n",
       "      <td>안심/신뢰</td>\n",
       "      <td>0.714591</td>\n",
       "    </tr>\n",
       "  </tbody>\n",
       "</table>\n",
       "</div>"
      ],
      "text/plain": [
       "                                                 text   label     score\n",
       "0   여유로움, 쓸쓸함, 안락함 그럴수록 내 안에 포근한 너는 필요해 넌 거기 있어 줄래...   환영/호의  0.403206\n",
       "1   여유로움, 쓸쓸함, 안락함 그럴수록 내 안에 포근한 너는 필요해 넌 거기 있어 줄래...   감동/감탄  0.665159\n",
       "2   여유로움, 쓸쓸함, 안락함 그럴수록 내 안에 포근한 너는 필요해 넌 거기 있어 줄래...     고마움  0.826028\n",
       "3   여유로움, 쓸쓸함, 안락함 그럴수록 내 안에 포근한 너는 필요해 넌 거기 있어 줄래...      슬픔  0.718082\n",
       "4   여유로움, 쓸쓸함, 안락함 그럴수록 내 안에 포근한 너는 필요해 넌 거기 있어 줄래...     기대감  0.414624\n",
       "5   여유로움, 쓸쓸함, 안락함 그럴수록 내 안에 포근한 너는 필요해 넌 거기 있어 줄래...   편안/쾌적  0.556532\n",
       "6   여유로움, 쓸쓸함, 안락함 그럴수록 내 안에 포근한 너는 필요해 넌 거기 있어 줄래...    아껴주는  0.841833\n",
       "7   여유로움, 쓸쓸함, 안락함 그럴수록 내 안에 포근한 너는 필요해 넌 거기 있어 줄래...   힘듦/지침  0.494305\n",
       "8   여유로움, 쓸쓸함, 안락함 그럴수록 내 안에 포근한 너는 필요해 넌 거기 있어 줄래...     깨달음  0.503378\n",
       "9   여유로움, 쓸쓸함, 안락함 그럴수록 내 안에 포근한 너는 필요해 넌 거기 있어 줄래...  불쌍함/연민  0.464545\n",
       "10  여유로움, 쓸쓸함, 안락함 그럴수록 내 안에 포근한 너는 필요해 넌 거기 있어 줄래...      행복  0.848950\n",
       "11  여유로움, 쓸쓸함, 안락함 그럴수록 내 안에 포근한 너는 필요해 넌 거기 있어 줄래...      기쁨  0.717102\n",
       "12  여유로움, 쓸쓸함, 안락함 그럴수록 내 안에 포근한 너는 필요해 넌 거기 있어 줄래...   안심/신뢰  0.714591"
      ]
     },
     "execution_count": 26,
     "metadata": {},
     "output_type": "execute_result"
    }
   ],
   "source": [
    "# 데이터 로드\n",
    "text = generated_texts\n",
    "\n",
    "# 긴 텍스트 자르기 함수\n",
    "def truncate_texts(texts, tokenizer, max_length):   # 입력 텍스트 리스트를 받아, 각 텍스트를 최대 길이로 자르고 잘라낸 텍스트를 반환합니다.\n",
    "    truncated_texts = []\n",
    "    for t in texts:\n",
    "        tokens = tokenizer(t, max_length=max_length, truncation=True)       #텍스트 t를 토큰화할 때, 최대 길이 max_length로 잘라내고 필요하면 truncation=True로 설정하여 초과 부분을 제거합니다.\n",
    "        truncated_texts.append(tokenizer.decode(tokens['input_ids'], skip_special_tokens=True))     #잘라낸 토큰을 다시 텍스트로 변환하며, 특수 토큰은 제거합니다.\n",
    "    return truncated_texts\n",
    "\n",
    "# 텍스트 리스트를 잘라서 파이프라인에 전달\n",
    "max_length = tokenizer.model_max_length  # 일반적으로 512\n",
    "truncated_texts = truncate_texts(text, tokenizer, max_length)   # text 리스트의 각 텍스트를 최대 길이로 잘라냅니다.\n",
    "pip_text = pipe(truncated_texts)        #잘라낸 텍스트를 파이프라인에 전달하여 감성 분석을 수행합니다.\n",
    "\n",
    "\n",
    "# 결과 저장을 위한 리스트\n",
    "results = []\n",
    "\n",
    "# 각 감성에 해당할 확률(score)이 0.4 이상인 감성들만 저장\n",
    "for i, t in enumerate(truncated_texts):            # 잘라낸 텍스트와 그에 대한 감성 분석 결과를 반복합니다.\n",
    "    for output in pip_text[i]:\n",
    "        if output[\"score\"] > 0.4:\n",
    "            results.append({\n",
    "                \"text\": t,\n",
    "                \"label\": output[\"label\"],\n",
    "                \"score\": output[\"score\"]\n",
    "            })\n",
    "\n",
    "# 결과를 데이터프레임으로 변환\n",
    "results_df = pd.DataFrame(results)\n",
    "results_df\n",
    "\n",
    "# 데이터프레임 저장 \n",
    "# results_df.to_csv(\"kote_result.csv\", index=False)\n",
    "\n",
    "# # 각 감성에 해당할 확률(score)이 0.4 이상인 감성들만 출력\n",
    "# for i, t in enumerate(truncated_texts):     # 잘라낸 텍스트와 그에 대한 감성 분석 결과를 반복합니다.\n",
    "#     print(f\"Text: {t}\")\n",
    "#     for output in pip_text[i]:\n",
    "#         if output[\"score\"] > 0.4:\n",
    "#             print(output)\n",
    "#     print(\"\\n\")"
   ]
  }
 ],
 "metadata": {
  "kernelspec": {
   "display_name": "rapids-24.12",
   "language": "python",
   "name": "python3"
  },
  "language_info": {
   "codemirror_mode": {
    "name": "ipython",
    "version": 3
   },
   "file_extension": ".py",
   "mimetype": "text/x-python",
   "name": "python",
   "nbconvert_exporter": "python",
   "pygments_lexer": "ipython3",
   "version": "3.11.11"
  }
 },
 "nbformat": 4,
 "nbformat_minor": 2
}
